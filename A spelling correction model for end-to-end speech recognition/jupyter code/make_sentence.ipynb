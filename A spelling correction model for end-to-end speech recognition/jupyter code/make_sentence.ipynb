{
 "cells": [
  {
   "cell_type": "code",
   "execution_count": 1,
   "metadata": {},
   "outputs": [],
   "source": [
    "import pickle as pkl\n",
    "import numpy as np\n",
    "import nltk\n",
    "import os\n",
    "from nltk.tokenize import word_tokenize\n",
    "import copy"
   ]
  },
  {
   "cell_type": "code",
   "execution_count": 2,
   "metadata": {},
   "outputs": [],
   "source": [
    "sent_detector = nltk.data.load('tokenizers/punkt/english.pickle')"
   ]
  },
  {
   "cell_type": "code",
   "execution_count": 3,
   "metadata": {},
   "outputs": [],
   "source": [
    "file_list = ['bbc/' + folder_name + '/' + file_name for folder_name in sorted(os.listdir('bbc'))[1:] for file_name in os.listdir('bbc/' + folder_name)[1:]]"
   ]
  },
  {
   "cell_type": "code",
   "execution_count": 4,
   "metadata": {},
   "outputs": [
    {
     "data": {
      "text/plain": [
       "['bbc/business/001.txt',\n",
       " 'bbc/business/002.txt',\n",
       " 'bbc/business/003.txt',\n",
       " 'bbc/business/004.txt',\n",
       " 'bbc/business/005.txt',\n",
       " 'bbc/business/006.txt',\n",
       " 'bbc/business/007.txt',\n",
       " 'bbc/business/008.txt',\n",
       " 'bbc/business/009.txt',\n",
       " 'bbc/business/010.txt']"
      ]
     },
     "execution_count": 4,
     "metadata": {},
     "output_type": "execute_result"
    }
   ],
   "source": [
    "file_list[:10]"
   ]
  },
  {
   "cell_type": "code",
   "execution_count": 5,
   "metadata": {},
   "outputs": [],
   "source": [
    "sentence_list = []\n",
    "for file in file_list:\n",
    "    with open('./' + file, 'r', encoding = 'utf-8') as fr:\n",
    "        for i,line in enumerate(fr.readlines()):\n",
    "            if line.strip()!=' ':\n",
    "                for l in sent_detector.tokenize(line.strip()):\n",
    "                    split_sentence = word_tokenize(l.lower())\n",
    "                    if len(split_sentence) >= 4 and len(split_sentence) <= 30:\n",
    "                        sentence_list.append(split_sentence)\n",
    "            else:\n",
    "                continue"
   ]
  },
  {
   "cell_type": "code",
   "execution_count": 6,
   "metadata": {},
   "outputs": [
    {
     "data": {
      "text/plain": [
       "36198"
      ]
     },
     "execution_count": 6,
     "metadata": {},
     "output_type": "execute_result"
    }
   ],
   "source": [
    "correct_sentence_list = copy.deepcopy(sentence_list)\n",
    "len(correct_sentence_list)"
   ]
  },
  {
   "cell_type": "code",
   "execution_count": 7,
   "metadata": {},
   "outputs": [],
   "source": [
    "import pickle as pkl\n",
    "import random\n",
    "with open('cor2err_vocab.pkl', 'rb') as f:\n",
    "    chr2err = pkl.load(f)"
   ]
  },
  {
   "cell_type": "code",
   "execution_count": 8,
   "metadata": {},
   "outputs": [
    {
     "name": "stdout",
     "output_type": "stream",
     "text": [
      "0 2\t"
     ]
    }
   ],
   "source": [
    "\n",
    "for i, sent in enumerate(sentence_list):\n",
    "    sent_idx = [idx for idx in range(len(sent))]\n",
    "    # 문장 내 토큰의 최대 60%의 토큰만 변환\n",
    "    # 예) '나는' '오늘' '너무' '학교에' '가고' '싶은데,' '태풍' '때문에' '가지' '못한다.''\n",
    "    #     라는 문장에서 최대 6개의 토큰에만 노이즈를 생성함.\n",
    "    k_value = random.choice([idx for idx in range(1, int(len(sent_idx) * 0.6)) ])\n",
    "    idx_list = sorted(random.sample(sent_idx, k = k_value))\n",
    "    for idx in reversed(idx_list):\n",
    "        if sent[idx] in list(chr2err.keys()):\n",
    "            sentence_list[i][idx] = random.choice(chr2err[sent[idx]])\n",
    "            print(i,idx, end = '\\t' )\n",
    "        else:\n",
    "            # 토큰이 미리 정의된 MS error vocab 에 정의 되지 않았다면, \n",
    "            # 30% 확률로 해당 토큰을 문장에서 제거\n",
    "            random_value = random.choice([i for i in range(1, 11)])\n",
    "            if random_value < 4:\n",
    "                del sentence_list[i][idx]\n",
    "            else:\n",
    "                continue\n",
    "    break"
   ]
  },
  {
   "cell_type": "code",
   "execution_count": 9,
   "metadata": {},
   "outputs": [
    {
     "name": "stdout",
     "output_type": "stream",
     "text": [
      "['dollar', 'gains', 'con,', 'greenspan', 'speech']\n",
      "['dollar', 'gains', 'on', 'greenspan', 'speech']\n"
     ]
    }
   ],
   "source": [
    "print(sentence_list[i])\n",
    "print(correct_sentence_list[i])"
   ]
  },
  {
   "cell_type": "code",
   "execution_count": 10,
   "metadata": {},
   "outputs": [],
   "source": [
    "with open('./output_preprocesscorrect_sentence_listput.pkl', 'wb') as f:\n",
    "    pkl.dump(sentence_list, f)\n",
    "with open('./output_preprocess/' + 'bbc_output.pkl', 'wb') as f:\n",
    "    pkl.dump(correct_sentence_list, f)"
   ]
  },
  {
   "cell_type": "code",
   "execution_count": 11,
   "metadata": {},
   "outputs": [],
   "source": [
    "import pandas as pd\n",
    "import re\n",
    "from tqdm import tqdm"
   ]
  },
  {
   "cell_type": "code",
   "execution_count": 12,
   "metadata": {},
   "outputs": [],
   "source": [
    "content = pd.read_csv('./1974_3493_bundle_archive/articles1.csv').iloc[:, -1].to_list()\n",
    "content.extend(pd.read_csv('./1974_3493_bundle_archive/articles2.csv').iloc[:, -1].to_list())\n",
    "content.extend(pd.read_csv('./1974_3493_bundle_archive/articles3.csv').iloc[:, -1].to_list())"
   ]
  },
  {
   "cell_type": "code",
   "execution_count": 13,
   "metadata": {},
   "outputs": [
    {
     "name": "stderr",
     "output_type": "stream",
     "text": [
      "100%|█████████████████████████████████████████████████████████████████████████| 142570/142570 [14:16<00:00, 166.48it/s]\n"
     ]
    }
   ],
   "source": [
    "sentence_list = []\n",
    "for i, cont in enumerate(tqdm(content)):\n",
    "#     cont = re.sub('[|]')\n",
    "    for sent in sent_detector.tokenize(cont.strip().lower()):\n",
    "        split_sent = word_tokenize(sent)\n",
    "        if len(split_sent) < 4:\n",
    "            continue\n",
    "        if len(split_sent) >= 4 and len(split_sent) <= 30:\n",
    "            sentence_list.append(split_sent)"
   ]
  },
  {
   "cell_type": "code",
   "execution_count": 14,
   "metadata": {},
   "outputs": [
    {
     "data": {
      "text/plain": [
       "3349657"
      ]
     },
     "execution_count": 14,
     "metadata": {},
     "output_type": "execute_result"
    }
   ],
   "source": [
    "correct_sentence_list = copy.deepcopy(sentence_list)\n",
    "len(correct_sentence_list)"
   ]
  },
  {
   "cell_type": "code",
   "execution_count": 15,
   "metadata": {},
   "outputs": [
    {
     "name": "stderr",
     "output_type": "stream",
     "text": [
      "100%|██████████████████████████████████████████████████████████████████████| 3349657/3349657 [33:14<00:00, 1679.37it/s]\n"
     ]
    }
   ],
   "source": [
    "for i, sent in enumerate(tqdm(sentence_list)):\n",
    "    sent_idx = [j for j in range(len(sent))]\n",
    "    # 문장 내 토큰의 최대 60%의 토큰만 변환\n",
    "    # 예) '나는' '오늘' '너무' '학교에' '가고' '싶은데,' '태풍' '때문에' '가지' '못한다.''\n",
    "    #     라는 문장에서 최대 6개의 토큰에만 노이즈를 생성함.\n",
    "#     print(i, len(sent_idx))\n",
    "    if len(sent_idx) < 4:\n",
    "        print(i)\n",
    "    k_value = random.choice([j for j in range(1, int(len(sent_idx) * 0.6)) ])\n",
    "    idx_list = sorted(random.sample(sent_idx, k = k_value))\n",
    "    for idx in reversed(idx_list):\n",
    "        if sent[idx] in list(chr2err.keys()):\n",
    "            sentence_list[i][idx] = random.choice(chr2err[sent[idx]])\n",
    "        else:\n",
    "            # 토큰이 미리 정의된 MS error vocab 에 정의 되지 않았다면, \n",
    "            # 30% 확률로 해당 토큰을 문장에서 제거\n",
    "            random_value = random.choice([i for i in range(1, 11)])\n",
    "            if random_value < 4:\n",
    "                del sentence_list[i][idx]\n",
    "            else:\n",
    "                continue"
   ]
  },
  {
   "cell_type": "code",
   "execution_count": 16,
   "metadata": {},
   "outputs": [],
   "source": [
    "with open('./output_preprocess/' + 'kaggle_input.pkl', 'wb') as f:\n",
    "    pkl.dump(sentence_list, f)\n",
    "with open('./output_preprocess/' + 'kaggle_output.pkl', 'wb') as f:\n",
    "    pkl.dump(correct_sentence_list, f)"
   ]
  },
  {
   "cell_type": "code",
   "execution_count": 17,
   "metadata": {},
   "outputs": [
    {
     "data": {
      "text/plain": [
       "['washington',\n",
       " '—',\n",
       " 'congressional',\n",
       " 'republicans',\n",
       " 'have',\n",
       " 'a',\n",
       " 'mews',\n",
       " 'fear',\n",
       " 'when',\n",
       " 'it',\n",
       " 'comes',\n",
       " 'the',\n",
       " 'thieir.',\n",
       " 'health',\n",
       " 'lawsuit',\n",
       " 'thet',\n",
       " 'obama',\n",
       " ':',\n",
       " \"lethey'\",\n",
       " 'dighty',\n",
       " 'win',\n",
       " '.']"
      ]
     },
     "execution_count": 17,
     "metadata": {},
     "output_type": "execute_result"
    }
   ],
   "source": [
    "sentence_list[0]"
   ]
  },
  {
   "cell_type": "code",
   "execution_count": 18,
   "metadata": {},
   "outputs": [],
   "source": [
    "import random\n",
    "a = [1,2,3,4,5,6,7,8,9]\n",
    "random.shuffle(a)"
   ]
  },
  {
   "cell_type": "code",
   "execution_count": 19,
   "metadata": {},
   "outputs": [
    {
     "name": "stdout",
     "output_type": "stream",
     "text": [
      "[1, 4, 5, 8, 7, 6, 2, 9, 3]\n"
     ]
    }
   ],
   "source": [
    "print(a)"
   ]
  },
  {
   "cell_type": "code",
   "execution_count": null,
   "metadata": {},
   "outputs": [],
   "source": []
  }
 ],
 "metadata": {
  "kernelspec": {
   "display_name": "Python 3",
   "language": "python",
   "name": "python3"
  },
  "language_info": {
   "codemirror_mode": {
    "name": "ipython",
    "version": 3
   },
   "file_extension": ".py",
   "mimetype": "text/x-python",
   "name": "python",
   "nbconvert_exporter": "python",
   "pygments_lexer": "ipython3",
   "version": "3.6.8"
  }
 },
 "nbformat": 4,
 "nbformat_minor": 4
}

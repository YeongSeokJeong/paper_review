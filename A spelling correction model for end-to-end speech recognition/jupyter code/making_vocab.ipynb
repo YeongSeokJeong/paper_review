{
 "cells": [
  {
   "cell_type": "code",
   "execution_count": 1,
   "metadata": {},
   "outputs": [],
   "source": [
    "import numpy\n",
    "from pprint import pprint"
   ]
  },
  {
   "cell_type": "code",
   "execution_count": 2,
   "metadata": {},
   "outputs": [],
   "source": [
    "error_vocab = []\n",
    "correct_vocab = []\n",
    "\n",
    "with open('en_keystroke_pairs.sorted.txt', 'r') as f:\n",
    "    for line in f.readlines():\n",
    "        error, correct = line.split('\\t')\n",
    "        error_vocab.append(error)\n",
    "        correct_vocab.append(correct)"
   ]
  },
  {
   "cell_type": "code",
   "execution_count": 3,
   "metadata": {},
   "outputs": [],
   "source": [
    "cor2err_dic = {key[:-2]:[] for key in set(correct_vocab)}\n",
    "\n",
    "for error, correct in zip(error_vocab, correct_vocab):\n",
    "    cor2err_dic[correct[:-2]].append(error)"
   ]
  },
  {
   "cell_type": "code",
   "execution_count": 4,
   "metadata": {},
   "outputs": [
    {
     "name": "stdout",
     "output_type": "stream",
     "text": [
      "['billo,',\n",
      " 'hallo,',\n",
      " 'hello!',\n",
      " 'hello,fu',\n",
      " 'hellow',\n",
      " 'helly!',\n",
      " 'heylo!',\n",
      " 'yeslo,']\n"
     ]
    }
   ],
   "source": [
    "pprint(cor2err_dic['hello'])"
   ]
  },
  {
   "cell_type": "code",
   "execution_count": 5,
   "metadata": {},
   "outputs": [],
   "source": [
    "import pickle as pkl\n",
    "with open('cor2err_vocab.pkl', 'wb') as fw:\n",
    "    pkl.dump(cor2err_dic, fw)"
   ]
  },
  {
   "cell_type": "code",
   "execution_count": null,
   "metadata": {},
   "outputs": [],
   "source": []
  }
 ],
 "metadata": {
  "kernelspec": {
   "display_name": "Python 3",
   "language": "python",
   "name": "python3"
  },
  "language_info": {
   "codemirror_mode": {
    "name": "ipython",
    "version": 3
   },
   "file_extension": ".py",
   "mimetype": "text/x-python",
   "name": "python",
   "nbconvert_exporter": "python",
   "pygments_lexer": "ipython3",
   "version": "3.6.8"
  }
 },
 "nbformat": 4,
 "nbformat_minor": 4
}

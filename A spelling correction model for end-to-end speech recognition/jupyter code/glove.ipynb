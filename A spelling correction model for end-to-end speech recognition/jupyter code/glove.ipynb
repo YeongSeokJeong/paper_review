{
 "cells": [
  {
   "cell_type": "code",
   "execution_count": 1,
   "metadata": {},
   "outputs": [],
   "source": [
    "import pickle as pkl\n",
    "import numpy as np\n",
    "import nltk\n",
    "from tqdm import tqdm\n"
   ]
  },
  {
   "cell_type": "code",
   "execution_count": 2,
   "metadata": {},
   "outputs": [],
   "source": [
    "with open('output_preprocess/bbc_input.pkl', 'rb') as fr:\n",
    "    bbc_input = pkl.load(fr)\n",
    "with open('output_preprocess/bbc_output.pkl', 'rb') as fr:\n",
    "    bbc_output = pkl.load(fr)\n",
    "with open('output_preprocess/kaggle_input.pkl', 'rb') as fr:\n",
    "    kaggle_input = pkl.load(fr)\n",
    "with open('output_preprocess/kaggle_output.pkl', 'rb') as fr:\n",
    "    kaggle_output = pkl.load(fr)"
   ]
  },
  {
   "cell_type": "code",
   "execution_count": 3,
   "metadata": {},
   "outputs": [],
   "source": [
    "input_sequences = bbc_input + kaggle_input\n",
    "output_sequences = bbc_output + kaggle_output"
   ]
  },
  {
   "cell_type": "code",
   "execution_count": 4,
   "metadata": {},
   "outputs": [
    {
     "data": {
      "text/plain": [
       "['dollar', 'gains', 'ofe', 'greenspan', 'speech']"
      ]
     },
     "execution_count": 4,
     "metadata": {},
     "output_type": "execute_result"
    }
   ],
   "source": [
    "input_sequences[0]"
   ]
  },
  {
   "cell_type": "code",
   "execution_count": 5,
   "metadata": {},
   "outputs": [],
   "source": [
    "from tensorflow.keras.preprocessing.sequence import pad_sequences"
   ]
  },
  {
   "cell_type": "code",
   "execution_count": 6,
   "metadata": {},
   "outputs": [],
   "source": [
    "input_data = [[\"<start>\"] +[word  for word in sent]+ [\"<end>\"] for sent in input_sequences]\n",
    "output_data = [[\"<start>\"] +[word  for word in sent]+ [\"<end>\"] for sent in output_sequences]\n",
    "for i in range(len(input_data)):\n",
    "    input_data[i] = input_data[i] + [\"<pad>\"  for _ in range(32-len(input_data[i]))]\n",
    "    \n",
    "for i in range(len(output_data)):\n",
    "    output_data[i] = output_data[i] + [\"<pad>\" for _ in range(32-len(output_data[i]))]"
   ]
  },
  {
   "cell_type": "code",
   "execution_count": 7,
   "metadata": {},
   "outputs": [
    {
     "name": "stdout",
     "output_type": "stream",
     "text": [
      "['<start>', 'dollar', 'gains', 'ofe', 'greenspan', 'speech', '<end>', '<pad>', '<pad>', '<pad>', '<pad>', '<pad>', '<pad>', '<pad>', '<pad>', '<pad>', '<pad>', '<pad>', '<pad>', '<pad>', '<pad>', '<pad>', '<pad>', '<pad>', '<pad>', '<pad>', '<pad>', '<pad>', '<pad>', '<pad>', '<pad>', '<pad>']\n"
     ]
    }
   ],
   "source": [
    "print(input_data[0])"
   ]
  },
  {
   "cell_type": "code",
   "execution_count": 8,
   "metadata": {},
   "outputs": [],
   "source": [
    "from glove import Glove\n",
    "from glove import Corpus"
   ]
  },
  {
   "cell_type": "code",
   "execution_count": 9,
   "metadata": {},
   "outputs": [],
   "source": [
    "def read_corpus(data):\n",
    "    for line in data:\n",
    "        yield line"
   ]
  },
  {
   "cell_type": "code",
   "execution_count": 10,
   "metadata": {},
   "outputs": [
    {
     "name": "stdout",
     "output_type": "stream",
     "text": [
      "Dict size: 244881\n",
      "Collocations: 76096953\n",
      "Dict size: 244881\n",
      "Collocations: 76096953\n"
     ]
    }
   ],
   "source": [
    "input_corpus_model = Corpus()\n",
    "input_corpus_model.fit(read_corpus(input_data), window = 30)\n",
    "input_corpus_model.save('input_corpus.model')\n",
    "print('Dict size: %s' % len(input_corpus_model.dictionary))\n",
    "print('Collocations: %s' % input_corpus_model.matrix.nnz)\n",
    "\n",
    "output_corpus_model = Corpus()\n",
    "output_corpus_model.fit(read_corpus(output_data), window = 30)\n",
    "output_corpus_model.save('output_corpus.model')\n",
    "print('Dict size: %s' % len(output_corpus_model.dictionary))\n",
    "print('Collocations: %s' % output_corpus_model.matrix.nnz)"
   ]
  },
  {
   "cell_type": "code",
   "execution_count": 11,
   "metadata": {},
   "outputs": [
    {
     "name": "stdout",
     "output_type": "stream",
     "text": [
      "Performing 10 training epochs with 6 threads\n",
      "Epoch 0\n",
      "Epoch 1\n",
      "Epoch 2\n",
      "Epoch 3\n",
      "Epoch 4\n",
      "Epoch 5\n",
      "Epoch 6\n",
      "Epoch 7\n",
      "Epoch 8\n",
      "Epoch 9\n"
     ]
    }
   ],
   "source": [
    "input_glove = Glove(no_components=256, learning_rate=0.05)\n",
    "input_glove.fit(input_corpus_model.matrix, epochs=10,\n",
    "          no_threads=6, verbose=True)\n",
    "input_glove.add_dictionary(input_corpus_model.dictionary)\n",
    "input_glove.save('input_embedding.model')"
   ]
  },
  {
   "cell_type": "code",
   "execution_count": 12,
   "metadata": {},
   "outputs": [
    {
     "name": "stdout",
     "output_type": "stream",
     "text": [
      "Performing 10 training epochs with 6 threads\n",
      "Epoch 0\n",
      "Epoch 1\n",
      "Epoch 2\n",
      "Epoch 3\n",
      "Epoch 4\n",
      "Epoch 5\n",
      "Epoch 6\n",
      "Epoch 7\n",
      "Epoch 8\n",
      "Epoch 9\n"
     ]
    }
   ],
   "source": [
    "output_glove = Glove(no_components=256, learning_rate=0.05)\n",
    "output_glove.fit(output_corpus_model.matrix, epochs=10,\n",
    "          no_threads=6, verbose=True)\n",
    "output_glove.add_dictionary(output_corpus_model.dictionary)\n",
    "output_glove.save('output_embedding.model')"
   ]
  },
  {
   "cell_type": "code",
   "execution_count": 13,
   "metadata": {},
   "outputs": [
    {
     "ename": "NameError",
     "evalue": "name 'glove' is not defined",
     "output_type": "error",
     "traceback": [
      "\u001b[0;31m---------------------------------------------------------------------------\u001b[0m",
      "\u001b[0;31mNameError\u001b[0m                                 Traceback (most recent call last)",
      "\u001b[0;32m<ipython-input-13-28afed3181a9>\u001b[0m in \u001b[0;36m<module>\u001b[0;34m\u001b[0m\n\u001b[0;32m----> 1\u001b[0;31m \u001b[0mglove\u001b[0m\u001b[0;34m.\u001b[0m\u001b[0madd_dictionary\u001b[0m\u001b[0;34m(\u001b[0m\u001b[0mcorpus_model\u001b[0m\u001b[0;34m.\u001b[0m\u001b[0mdictionary\u001b[0m\u001b[0;34m)\u001b[0m\u001b[0;34m\u001b[0m\u001b[0m\n\u001b[0m",
      "\u001b[0;31mNameError\u001b[0m: name 'glove' is not defined"
     ]
    }
   ],
   "source": [
    "glove.add_dictionary(corpus_model.dictionary)"
   ]
  },
  {
   "cell_type": "code",
   "execution_count": null,
   "metadata": {},
   "outputs": [],
   "source": [
    "output_corpus_model.save('output_embedding.model')"
   ]
  },
  {
   "cell_type": "code",
   "execution_count": 26,
   "metadata": {},
   "outputs": [
    {
     "data": {
      "text/plain": [
       "0"
      ]
     },
     "execution_count": 26,
     "metadata": {},
     "output_type": "execute_result"
    }
   ],
   "source": [
    "output_corpus_model.dictionary['<start>']"
   ]
  },
  {
   "cell_type": "code",
   "execution_count": 19,
   "metadata": {},
   "outputs": [
    {
     "data": {
      "text/plain": [
       "[2, 3]"
      ]
     },
     "execution_count": 19,
     "metadata": {},
     "output_type": "execute_result"
    }
   ],
   "source": [
    "[1,2,3][1:3]"
   ]
  },
  {
   "cell_type": "code",
   "execution_count": null,
   "metadata": {},
   "outputs": [],
   "source": []
  }
 ],
 "metadata": {
  "kernelspec": {
   "display_name": "Python 3",
   "language": "python",
   "name": "python3"
  },
  "language_info": {
   "codemirror_mode": {
    "name": "ipython",
    "version": 3
   },
   "file_extension": ".py",
   "mimetype": "text/x-python",
   "name": "python",
   "nbconvert_exporter": "python",
   "pygments_lexer": "ipython3",
   "version": "3.5.2"
  }
 },
 "nbformat": 4,
 "nbformat_minor": 4
}

{
 "cells": [
  {
   "cell_type": "code",
   "execution_count": 19,
   "metadata": {},
   "outputs": [],
   "source": [
    "import pickle as pkl\n",
    "import numpy as np\n",
    "import nltk\n",
    "from tqdm import tqdm\n"
   ]
  },
  {
   "cell_type": "code",
   "execution_count": 20,
   "metadata": {},
   "outputs": [],
   "source": [
    "with open('output_preprocess/bbc_input.pkl', 'rb') as fr:\n",
    "    bbc_input = pkl.load(fr)\n",
    "with open('output_preprocess/bbc_output.pkl', 'rb') as fr:\n",
    "    bbc_output = pkl.load(fr)\n",
    "with open('output_preprocess/kaggle_input.pkl', 'rb') as fr:\n",
    "    kaggle_input = pkl.load(fr)\n",
    "with open('output_preprocess/kaggle_output.pkl', 'rb') as fr:\n",
    "    kaggle_output = pkl.load(fr)"
   ]
  },
  {
   "cell_type": "code",
   "execution_count": 21,
   "metadata": {},
   "outputs": [],
   "source": [
    "from glove import Glove\n",
    "glove = Glove(no_components=512, learning_rate=0.05)\n",
    "glove = glove.load('./input_embedding.model')\n",
    "inp_word2idx = glove.dictionary\n",
    "inp_matrix = glove.word_vectors.copy()\n",
    "glove =glove.load('./output_embedding.model')\n",
    "oup_word2idx = glove.dictionary\n",
    "oup_matrix = glove.word_vectors.copy()\n",
    "inp_idx2word = {value:key for key, value in inp_word2idx.items()}\n",
    "oup_idx2word = {value:key for key, value in oup_word2idx.items()}"
   ]
  },
  {
   "cell_type": "code",
   "execution_count": 22,
   "metadata": {},
   "outputs": [],
   "source": [
    "input_sequences = bbc_input + kaggle_input\n",
    "output_sequences = bbc_output + kaggle_output"
   ]
  },
  {
   "cell_type": "code",
   "execution_count": 23,
   "metadata": {},
   "outputs": [
    {
     "data": {
      "text/plain": [
       "7"
      ]
     },
     "execution_count": 23,
     "metadata": {},
     "output_type": "execute_result"
    }
   ],
   "source": [
    "oup_word2idx['<pad>']"
   ]
  },
  {
   "cell_type": "code",
   "execution_count": 24,
   "metadata": {},
   "outputs": [],
   "source": [
    "inp_seq_idx = [[inp_word2idx['<start>']] + [inp_word2idx[word] for word in sent] + [inp_word2idx['<end>']] for sent in input_sequences]\n",
    "oup_seq_idx = [[oup_word2idx['<start>']] + [oup_word2idx[word] for word in sent] + [oup_word2idx[\"<end>\"]] for sent in output_sequences]"
   ]
  },
  {
   "cell_type": "code",
   "execution_count": 25,
   "metadata": {},
   "outputs": [],
   "source": [
    "from tensorflow.keras.preprocessing.sequence import pad_sequences"
   ]
  },
  {
   "cell_type": "code",
   "execution_count": 26,
   "metadata": {},
   "outputs": [],
   "source": [
    "max_seq_length = 0\n",
    "for inp_sen, oup_sen in zip(inp_seq_idx, oup_seq_idx):\n",
    "    step_length = len(inp_sen) if len(inp_sen) > len(oup_sen) else len(oup_sen)\n",
    "    max_seq_length = max_seq_length if max_seq_length > step_length else step_length"
   ]
  },
  {
   "cell_type": "code",
   "execution_count": 27,
   "metadata": {},
   "outputs": [],
   "source": [
    "inp_seq_idx = pad_sequences(inp_seq_idx, max_seq_length, padding = 'post', value = inp_word2idx[\"<pad>\"])\n",
    "oup_seq_idx = pad_sequences(oup_seq_idx, max_seq_length, padding = 'post', value = oup_word2idx[\"<pad>\"])"
   ]
  },
  {
   "cell_type": "code",
   "execution_count": 28,
   "metadata": {},
   "outputs": [],
   "source": [
    "random_state = 25"
   ]
  },
  {
   "cell_type": "code",
   "execution_count": 29,
   "metadata": {},
   "outputs": [],
   "source": [
    "from sklearn.model_selection import train_test_split\n",
    "\n",
    "train_input, dev_input, train_output, dev_output = train_test_split(inp_seq_idx,oup_seq_idx, test_size = 0.2, random_state = random_state)\n",
    "val_input, test_input, val_output, test_output = train_test_split(inp_seq_idx,oup_seq_idx, test_size = 0.5, random_state = random_state)"
   ]
  },
  {
   "cell_type": "code",
   "execution_count": 30,
   "metadata": {},
   "outputs": [
    {
     "name": "stdout",
     "output_type": "stream",
     "text": [
      "train size : 2708684\n",
      "val size : 1692927\n",
      "test size : 1692928\n"
     ]
    }
   ],
   "source": [
    "print('train size :', len(train_input))\n",
    "print('val size :', len(val_input))\n",
    "print('test size :', len(test_input))"
   ]
  },
  {
   "cell_type": "code",
   "execution_count": 31,
   "metadata": {},
   "outputs": [],
   "source": [
    "with open('./output/train_input.pkl', 'wb') as f:\n",
    "    pkl.dump(train_input, f)\n",
    "with open('./output/train_output.pkl', 'wb') as f:\n",
    "    pkl.dump(train_output, f)\n",
    "with open('./output/val_input.pkl', 'wb') as f:\n",
    "    pkl.dump(val_input, f)\n",
    "with open('./output/val_output.pkl', 'wb') as f:\n",
    "    pkl.dump(val_output, f)\n",
    "with open('./output/test_input.pkl', 'wb') as f:\n",
    "    pkl.dump(test_input, f)\n",
    "with open('./output/test_output.pkl', 'wb') as f:\n",
    "    pkl.dump(test_output, f)\n",
    "with open('./output/inp_w2i.pkl', 'wb') as f:\n",
    "    pkl.dump(inp_word2idx, f)\n",
    "with open('./output/inp_i2w.pkl', 'wb') as f:\n",
    "    pkl.dump(inp_idx2word, f)\n",
    "with open('./output/oup_w2i.pkl', 'wb') as f:\n",
    "    pkl.dump(oup_word2idx, f)\n",
    "with open('./output/oup_i2w.pkl', 'wb') as f:\n",
    "    pkl.dump(oup_idx2word, f)\n",
    "    \n",
    "with open('./output/inp_wm.pkl', 'wb') as f:\n",
    "    pkl.dump(inp_matrix, f)\n",
    "with open('./output/oup_wm.pkl', 'wb') as f:\n",
    "    pkl.dump(oup_matrix, f)\n"
   ]
  },
  {
   "cell_type": "code",
   "execution_count": 32,
   "metadata": {},
   "outputs": [
    {
     "name": "stdout",
     "output_type": "stream",
     "text": [
      "hi\n"
     ]
    }
   ],
   "source": [
    "print('hi')"
   ]
  },
  {
   "cell_type": "code",
   "execution_count": null,
   "metadata": {},
   "outputs": [],
   "source": []
  }
 ],
 "metadata": {
  "kernelspec": {
   "display_name": "Python 3",
   "language": "python",
   "name": "python3"
  },
  "language_info": {
   "codemirror_mode": {
    "name": "ipython",
    "version": 3
   },
   "file_extension": ".py",
   "mimetype": "text/x-python",
   "name": "python",
   "nbconvert_exporter": "python",
   "pygments_lexer": "ipython3",
   "version": "3.5.2"
  }
 },
 "nbformat": 4,
 "nbformat_minor": 4
}
